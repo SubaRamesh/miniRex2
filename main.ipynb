{
 "cells": [
  {
   "cell_type": "code",
   "execution_count": 1,
   "metadata": {},
   "outputs": [
    {
     "name": "stderr",
     "output_type": "stream",
     "text": [
      "c:\\Users\\suba\\.conda\\envs\\cpsc672\\lib\\site-packages\\gym\\logger.py:30: UserWarning: \u001b[33mWARN: Box bound precision lowered by casting to float32\u001b[0m\n",
      "  warnings.warn(colorize('%s: %s'%('WARN', msg % args), 'yellow'))\n",
      "c:\\Users\\suba\\.conda\\envs\\cpsc672\\lib\\site-packages\\tqdm\\auto.py:22: TqdmWarning: IProgress not found. Please update jupyter and ipywidgets. See https://ipywidgets.readthedocs.io/en/stable/user_install.html\n",
      "  from .autonotebook import tqdm as notebook_tqdm\n"
     ]
    }
   ],
   "source": [
    "import gym\n",
    "import pickle\n",
    "\n",
    "from human import TerminalHuman\n",
    "from keyboard_agent import *\n",
    "from utils import *\n",
    "from LearnAtariReward import *\n",
    "\n",
    "import os\n",
    "import glob"
   ]
  },
  {
   "cell_type": "code",
   "execution_count": 2,
   "metadata": {},
   "outputs": [
    {
     "name": "stderr",
     "output_type": "stream",
     "text": [
      "c:\\Users\\suba\\.conda\\envs\\cpsc672\\lib\\site-packages\\gym\\logger.py:30: UserWarning: \u001b[33mWARN: Box bound precision lowered by casting to float32\u001b[0m\n",
      "  warnings.warn(colorize('%s: %s'%('WARN', msg % args), 'yellow'))\n"
     ]
    }
   ],
   "source": [
    "env = gym.make('LunarLander-v2')"
   ]
  },
  {
   "cell_type": "code",
   "execution_count": null,
   "metadata": {},
   "outputs": [],
   "source": [
    "play(env, 30, None, True)"
   ]
  },
  {
   "cell_type": "code",
   "execution_count": null,
   "metadata": {},
   "outputs": [],
   "source": [
    "demo_files = play(env, 30, 0, True)"
   ]
  },
  {
   "cell_type": "code",
   "execution_count": null,
   "metadata": {},
   "outputs": [],
   "source": [
    "demo_files"
   ]
  },
  {
   "cell_type": "code",
   "execution_count": null,
   "metadata": {},
   "outputs": [],
   "source": [
    "# save the demosntrations\n",
    "# output = play(env, 0, save=False)\n",
    "# res = play_rand(env, 15, 0, save=True)"
   ]
  },
  {
   "cell_type": "code",
   "execution_count": null,
   "metadata": {},
   "outputs": [],
   "source": [
    "demo_files = ['1669268176.6269968',\n",
    " '1669268196.0336297',\n",
    " '1669268212.2845922',\n",
    " '1669268231.2647314',\n",
    " '1669268269.2316186',\n",
    " '1669268294.8198466',\n",
    " '1669268315.7406812',\n",
    " '1669268331.8071287',\n",
    " '1669268365.5589268',\n",
    " '1669268383.076348']"
   ]
  },
  {
   "cell_type": "code",
   "execution_count": 3,
   "metadata": {},
   "outputs": [],
   "source": [
    "demo_path = 'data/demonstrations'\n",
    "demo_files = glob.glob(f\"{demo_path}/gym-*.pickle\")"
   ]
  },
  {
   "cell_type": "code",
   "execution_count": null,
   "metadata": {},
   "outputs": [],
   "source": [
    "demo_files"
   ]
  },
  {
   "cell_type": "code",
   "execution_count": 4,
   "metadata": {},
   "outputs": [],
   "source": [
    "\n",
    "demonstrations = [pickle.load(open(demo_name, 'rb'), encoding='latin1') for demo_name in demo_files] # load from files\n",
    "# demos[demo #] = control, state"
   ]
  },
  {
   "cell_type": "code",
   "execution_count": null,
   "metadata": {},
   "outputs": [],
   "source": [
    "demonstrations[0][2]"
   ]
  },
  {
   "cell_type": "code",
   "execution_count": 5,
   "metadata": {},
   "outputs": [],
   "source": [
    "# sorted best to worst demos\n",
    "sorted_demonstrations = [(states, controls) for controls, states, reward in sorted(demonstrations, key=lambda pair: pair[2])]\n",
    "sorted_rewards = [reward for controls, states, reward in sorted(demonstrations, key=lambda pair: pair[2])]"
   ]
  },
  {
   "cell_type": "code",
   "execution_count": null,
   "metadata": {},
   "outputs": [],
   "source": [
    "watch(env, sorted_demonstrations[5][1], 0)"
   ]
  },
  {
   "cell_type": "code",
   "execution_count": null,
   "metadata": {},
   "outputs": [],
   "source": [
    "min([len(demonstrations[i][0]) for i in range(len(demonstrations))])"
   ]
  },
  {
   "cell_type": "code",
   "execution_count": 6,
   "metadata": {},
   "outputs": [],
   "source": [
    "num_trajs =  0\n",
    "num_snippets = 6000\n",
    "min_snippet_length =  min(np.min([len(d[0]) for d in sorted_demonstrations]), 30) #min length of trajectory for training comparison\n",
    "maximum_snippet_length = 100\n",
    "max_snippet_length = min(np.min([len(d[0]) for d in sorted_demonstrations]), maximum_snippet_length)"
   ]
  },
  {
   "cell_type": "code",
   "execution_count": 7,
   "metadata": {},
   "outputs": [
    {
     "name": "stdout",
     "output_type": "stream",
     "text": [
      "maximum traj length 20\n"
     ]
    }
   ],
   "source": [
    "# auto labelling, but this can be done with preference ranking\n",
    "training_obs, training_labels = create_training_data(sorted_demonstrations, num_trajs, num_snippets, min_snippet_length, max_snippet_length)"
   ]
  },
  {
   "cell_type": "code",
   "execution_count": 8,
   "metadata": {},
   "outputs": [
    {
     "data": {
      "text/plain": [
       "5000"
      ]
     },
     "execution_count": 8,
     "metadata": {},
     "output_type": "execute_result"
    }
   ],
   "source": [
    "testing_obs = training_obs[:1000]\n",
    "training_obs = training_obs[1000:]\n",
    "\n",
    "testing_labels = training_labels[:1000]\n",
    "training_labels = training_labels[1000:]\n",
    "len(testing_obs)\n",
    "len(training_obs)"
   ]
  },
  {
   "cell_type": "code",
   "execution_count": null,
   "metadata": {},
   "outputs": [],
   "source": [
    "len(training_obs[0][1][0])"
   ]
  },
  {
   "cell_type": "code",
   "execution_count": 9,
   "metadata": {},
   "outputs": [],
   "source": [
    "lr = 0.0005\n",
    "weight_decay = 0.0\n",
    "num_iter = 20 #num times through training data\n",
    "l1_reg=0.0"
   ]
  },
  {
   "cell_type": "code",
   "execution_count": 11,
   "metadata": {},
   "outputs": [
    {
     "name": "stdout",
     "output_type": "stream",
     "text": [
      "cpu\n",
      "epoch: 0, train acc: 0.1582, test_acc: 0.199\n",
      "epoch: 1, train acc: 0.2996, test_acc: 0.338\n",
      "epoch: 2, train acc: 0.7874, test_acc: 0.76\n",
      "epoch: 3, train acc: 0.868, test_acc: 0.85\n",
      "epoch: 4, train acc: 0.8816, test_acc: 0.854\n",
      "epoch: 5, train acc: 0.8826, test_acc: 0.856\n",
      "epoch: 6, train acc: 0.8834, test_acc: 0.854\n",
      "epoch: 7, train acc: 0.8826, test_acc: 0.856\n",
      "epoch: 8, train acc: 0.8808, test_acc: 0.851\n",
      "epoch: 9, train acc: 0.882, test_acc: 0.858\n",
      "epoch: 10, train acc: 0.8814, test_acc: 0.854\n",
      "epoch: 11, train acc: 0.8792, test_acc: 0.856\n",
      "epoch: 12, train acc: 0.883, test_acc: 0.853\n",
      "epoch: 13, train acc: 0.8828, test_acc: 0.851\n",
      "epoch: 14, train acc: 0.8822, test_acc: 0.855\n",
      "epoch: 15, train acc: 0.8814, test_acc: 0.855\n",
      "epoch: 16, train acc: 0.883, test_acc: 0.854\n",
      "epoch: 17, train acc: 0.8814, test_acc: 0.854\n",
      "epoch: 18, train acc: 0.883, test_acc: 0.853\n",
      "epoch: 19, train acc: 0.8832, test_acc: 0.856\n",
      "finished training loss 0.015036454424262047\n"
     ]
    }
   ],
   "source": [
    "reward_net = Net(3)\n",
    "\n",
    "import torch.optim as optim\n",
    "optimizer = optim.Adam(reward_net.parameters(),  lr=1e-4)#lr, weight_decay=weight_decay)\n",
    "\n",
    "reward_model_path = 'reward_model/model0.pth'\n",
    "\n",
    "learn_reward(reward_net, optimizer, training_obs, training_labels, testing_obs, testing_labels, num_iter, l1_reg, reward_model_path) #path is where to save the model\n",
    "#save reward network\n",
    "torch.save(reward_net.state_dict(), reward_model_path)"
   ]
  },
  {
   "cell_type": "markdown",
   "metadata": {},
   "source": [
    "1st see how it learns reward \"Network\""
   ]
  },
  {
   "cell_type": "code",
   "execution_count": 12,
   "metadata": {},
   "outputs": [
    {
     "name": "stdout",
     "output_type": "stream",
     "text": [
      "0 -291.7222555368397 143.41973036527634\n",
      "1 -251.01655448420595 117.07770991325378\n",
      "2 -223.70881531278718 76.98650270700455\n",
      "3 -143.8074527449122 69.1799281835556\n",
      "4 -118.19526083032189 113.60266447067261\n",
      "5 -108.2070801095955 40.402924954891205\n",
      "6 -106.38767104012021 127.80685657262802\n",
      "7 -86.36027015724082 108.90137052536011\n",
      "8 -81.69127625803537 65.23313641548157\n",
      "9 -71.98536950730443 66.54239851236343\n",
      "10 -68.63836620121113 130.27660405635834\n",
      "11 -67.26281517057744 317.0388298034668\n",
      "12 -67.04264814660908 118.5886800289154\n",
      "13 -66.59234274714592 123.46793621778488\n",
      "14 -60.42417660248355 122.87795346975327\n",
      "15 -54.71713891904837 70.98182064294815\n",
      "16 -54.61903617491768 27.796264231204987\n",
      "17 -48.177753233709694 107.35404586791992\n",
      "18 -42.40252030765484 89.95694899559021\n",
      "19 -34.47642888403563 132.23852491378784\n",
      "20 -33.73826673831135 88.83306330442429\n",
      "21 -33.39060638180224 95.2763637304306\n",
      "22 -33.222897127083414 111.71727687120438\n",
      "23 -30.960457563872282 155.3644552230835\n",
      "24 -29.041926781472142 101.19503927230835\n",
      "25 -28.13570826525246 91.45824235677719\n",
      "26 -17.54824508585122 98.50815463066101\n",
      "27 -14.977264017488508 106.40279537439346\n",
      "28 -12.290397727337748 97.08599638938904\n",
      "29 -5.850722127848613 93.7675929069519\n",
      "30 4.087285942173594 94.89870941638947\n",
      "31 6.445522402304107 142.91976392269135\n",
      "32 7.374340403275184 89.068494617939\n",
      "33 8.862743122214596 165.89808362722397\n",
      "34 10.11240671787938 143.56823140382767\n",
      "35 15.129826391262895 96.37511664628983\n",
      "36 16.120297006177623 126.6602435708046\n",
      "37 16.764217474452337 97.90740394592285\n",
      "38 224.79503934116144 379.7097244858742\n",
      "39 226.84167731744628 427.1549825668335\n",
      "40 229.52463484656414 378.968424141407\n",
      "41 230.76829627195718 249.49570047855377\n",
      "42 238.9631334859537 282.0198708176613\n",
      "43 240.75372331917242 242.9315865635872\n",
      "44 244.24855101130993 284.37087845802307\n"
     ]
    }
   ],
   "source": [
    "with torch.no_grad():\n",
    "        pred_returns = [predict_traj_return(reward_net, np_features(traj[0])) for traj in sorted_demonstrations]\n",
    "        # pred_returns = [predict_traj_return(reward_net, traj[0]) for traj in sorted_demonstrations]\n",
    "for i, p in enumerate(pred_returns):\n",
    "    print(i,sorted_rewards[i], p)"
   ]
  },
  {
   "cell_type": "code",
   "execution_count": 13,
   "metadata": {},
   "outputs": [],
   "source": [
    "import matplotlib.pyplot as plt"
   ]
  },
  {
   "cell_type": "code",
   "execution_count": null,
   "metadata": {},
   "outputs": [],
   "source": [
    "sorted_rewards"
   ]
  },
  {
   "cell_type": "code",
   "execution_count": 15,
   "metadata": {},
   "outputs": [
    {
     "data": {
      "text/plain": [
       "<matplotlib.collections.PathCollection at 0x2cee3ca4c70>"
      ]
     },
     "execution_count": 15,
     "metadata": {},
     "output_type": "execute_result"
    },
    {
     "data": {
      "image/png": "[encoded data removed]",
      "text/plain": [
       "<Figure size 640x480 with 1 Axes>"
      ]
     },
     "metadata": {},
     "output_type": "display_data"
    }
   ],
   "source": [
    "plt.scatter(sorted_rewards,pred_returns)"
   ]
  },
  {
   "cell_type": "code",
   "execution_count": null,
   "metadata": {},
   "outputs": [],
   "source": [
    "plt.scatter(pred_returns, sorted_rewards)"
   ]
  },
  {
   "cell_type": "code",
   "execution_count": null,
   "metadata": {},
   "outputs": [],
   "source": [
    "reward_net.state_dict()"
   ]
  },
  {
   "cell_type": "code",
   "execution_count": 16,
   "metadata": {},
   "outputs": [],
   "source": [
    "torch.save(reward_net.state_dict(), \"baselines/learned_models/lunar_lander_1.params\")"
   ]
  },
  {
   "cell_type": "code",
   "execution_count": null,
   "metadata": {},
   "outputs": [],
   "source": [
    "# H = TerminalHuman(env, 'approx')"
   ]
  },
  {
   "cell_type": "code",
   "execution_count": null,
   "metadata": {},
   "outputs": [],
   "source": [
    "# out = H.input(demos)"
   ]
  },
  {
   "cell_type": "code",
   "execution_count": null,
   "metadata": {},
   "outputs": [],
   "source": [
    "# true_weight = [-0.4, 0.4, -0.2, -0.7]"
   ]
  }
 ],
 "metadata": {
  "kernelspec": {
   "display_name": "Python 3.9.13 ('cpsc672')",
   "language": "python",
   "name": "python3"
  },
  "language_info": {
   "codemirror_mode": {
    "name": "ipython",
    "version": 3
   },
   "file_extension": ".py",
   "mimetype": "text/x-python",
   "name": "python",
   "nbconvert_exporter": "python",
   "pygments_lexer": "ipython3",
   "version": "3.9.13"
  },
  "orig_nbformat": 4,
  "vscode": {
   "interpreter": {
    "hash": "d49e151782fed93a6f134ef8d54ea6efc441a9808d334581963f6e1390574c3f"
   }
  }
 },
 "nbformat": 4,
 "nbformat_minor": 2
}
