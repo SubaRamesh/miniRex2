{
 "cells": [
  {
   "cell_type": "code",
   "execution_count": 29,
   "metadata": {},
   "outputs": [],
   "source": [
    "import gym\n",
    "import pickle\n",
    "\n",
    "from human import TerminalHuman\n",
    "from keyboard_agent import *\n",
    "from utils import *\n",
    "from LearnAtariReward import *\n"
   ]
  },
  {
   "cell_type": "code",
   "execution_count": 30,
   "metadata": {},
   "outputs": [],
   "source": [
    "env = gym.make('LunarLander-v2')"
   ]
  },
  {
   "cell_type": "code",
   "execution_count": 31,
   "metadata": {},
   "outputs": [],
   "source": [
    "# save the demosntrations\n",
    "# output = play(env, 0, save=False)\n",
    "# res = play_rand(env, 15, 0, save=True)"
   ]
  },
  {
   "cell_type": "code",
   "execution_count": 32,
   "metadata": {},
   "outputs": [],
   "source": [
    "res = ['1668105089.1177604',\n",
    " '1668105094.1521122',\n",
    " '1668105096.6714065',\n",
    " '1668105100.2791483',\n",
    " '1668105105.8747754',\n",
    " '1668105108.6929462',\n",
    " '1668105112.4706893',\n",
    " '1668105115.2749567',\n",
    " '1668105119.1750195',\n",
    " '1668105123.139814',\n",
    " '1668105125.4567327',\n",
    " '1668105128.4647155',\n",
    " '1668105131.5153224',\n",
    " '1668105135.0170794',\n",
    " '1668105138.4981039']"
   ]
  },
  {
   "cell_type": "code",
   "execution_count": 33,
   "metadata": {},
   "outputs": [],
   "source": [
    "demo_path = 'data-rand/demonstrations/gym-'\n",
    "demonstrations = [pickle.load(open(demo_path+ f'{demo_name}' + '.pickle', 'rb'), encoding='latin1') for demo_name in res] # load from files\n",
    "# demos[demo #] = control, state"
   ]
  },
  {
   "cell_type": "code",
   "execution_count": 34,
   "metadata": {},
   "outputs": [],
   "source": [
    "# sorted best to worst demos\n",
    "sorted_demonstrations = [(states, controls) for controls, states, reward in sorted(demonstrations, key=lambda pair: pair[2])]\n",
    "sorted_rewards = [reward for controls, states, reward in sorted(demonstrations, key=lambda pair: pair[2])]"
   ]
  },
  {
   "cell_type": "code",
   "execution_count": 35,
   "metadata": {},
   "outputs": [
    {
     "data": {
      "text/plain": [
       "62"
      ]
     },
     "execution_count": 35,
     "metadata": {},
     "output_type": "execute_result"
    }
   ],
   "source": [
    "min([len(demonstrations[i][0]) for i in range(len(demonstrations))])"
   ]
  },
  {
   "cell_type": "code",
   "execution_count": 36,
   "metadata": {},
   "outputs": [],
   "source": [
    "num_trajs =  0\n",
    "num_snippets = 6000\n",
    "min_snippet_length =  min(np.min([len(d[0]) for d in sorted_demonstrations]), 30) #min length of trajectory for training comparison\n",
    "maximum_snippet_length = 100\n",
    "max_snippet_length = min(np.min([len(d[0]) for d in sorted_demonstrations]), maximum_snippet_length)"
   ]
  },
  {
   "cell_type": "code",
   "execution_count": 37,
   "metadata": {},
   "outputs": [
    {
     "name": "stdout",
     "output_type": "stream",
     "text": [
      "maximum traj length 31\n"
     ]
    }
   ],
   "source": [
    "# auto labelling, but this can be done with preference ranking\n",
    "training_obs, training_labels = create_training_data(sorted_demonstrations, num_trajs, num_snippets, min_snippet_length, max_snippet_length)"
   ]
  },
  {
   "cell_type": "code",
   "execution_count": 38,
   "metadata": {},
   "outputs": [],
   "source": [
    "lr = 0.00005\n",
    "weight_decay = 0.0\n",
    "num_iter = 20 #num times through training data\n",
    "l1_reg=0.0"
   ]
  },
  {
   "cell_type": "code",
   "execution_count": 39,
   "metadata": {},
   "outputs": [
    {
     "name": "stdout",
     "output_type": "stream",
     "text": [
      "cpu\n",
      "epoch 0 loss 20.6466064453125\n",
      "tensor(46.8758, grad_fn=<AddBackward0>)\n",
      "check pointing\n",
      "epoch 1 loss 0.00018344627460464835\n",
      "tensor(81.3352, grad_fn=<AddBackward0>)\n",
      "check pointing\n",
      "epoch 2 loss 1.4185804502631072e-05\n",
      "tensor(92.6812, grad_fn=<AddBackward0>)\n",
      "check pointing\n",
      "epoch 3 loss 0.1204914003610611\n",
      "tensor(47.2961, grad_fn=<AddBackward0>)\n",
      "check pointing\n",
      "epoch 4 loss 4.623211860656738\n",
      "tensor(40.4380, grad_fn=<AddBackward0>)\n",
      "check pointing\n",
      "epoch 5 loss 0.03510177880525589\n",
      "tensor(42.8296, grad_fn=<AddBackward0>)\n",
      "check pointing\n",
      "epoch 6 loss 0.03865690901875496\n",
      "tensor(30.1768, grad_fn=<AddBackward0>)\n",
      "check pointing\n",
      "epoch 7 loss 0.5046154856681824\n",
      "tensor(25.6690, grad_fn=<AddBackward0>)\n",
      "check pointing\n",
      "epoch 8 loss 0.589774489402771\n",
      "tensor(26.1441, grad_fn=<AddBackward0>)\n",
      "check pointing\n",
      "epoch 9 loss 0.0023808723781257868\n",
      "tensor(42.1674, grad_fn=<AddBackward0>)\n",
      "check pointing\n",
      "epoch 10 loss 0.0018704315880313516\n",
      "tensor(35.9783, grad_fn=<AddBackward0>)\n",
      "check pointing\n",
      "epoch 11 loss 0.0015192406717687845\n",
      "tensor(33.3424, grad_fn=<AddBackward0>)\n",
      "check pointing\n",
      "epoch 12 loss 0.01755649968981743\n",
      "tensor(30.5049, grad_fn=<AddBackward0>)\n",
      "check pointing\n",
      "epoch 13 loss 0.00011979816190432757\n",
      "tensor(27.7846, grad_fn=<AddBackward0>)\n",
      "check pointing\n",
      "epoch 14 loss 0.08064041286706924\n",
      "tensor(20.5652, grad_fn=<AddBackward0>)\n",
      "check pointing\n",
      "epoch 15 loss 0.1768321692943573\n",
      "tensor(39.7293, grad_fn=<AddBackward0>)\n",
      "check pointing\n",
      "epoch 16 loss 0.3794967830181122\n",
      "tensor(10.8677, grad_fn=<AddBackward0>)\n",
      "check pointing\n",
      "epoch 17 loss 0.1332271248102188\n",
      "tensor(22.9652, grad_fn=<AddBackward0>)\n",
      "check pointing\n",
      "epoch 18 loss 0.002292982302606106\n",
      "tensor(47.1996, grad_fn=<AddBackward0>)\n",
      "check pointing\n",
      "epoch 19 loss 9.059865078597795e-06\n",
      "tensor(39.0750, grad_fn=<AddBackward0>)\n",
      "check pointing\n",
      "finished training loss 9.059865078597795e-06\n"
     ]
    }
   ],
   "source": [
    "reward_net = Net(8)\n",
    "\n",
    "import torch.optim as optim\n",
    "optimizer = optim.Adam(reward_net.parameters(),  lr=lr, weight_decay=weight_decay)\n",
    "\n",
    "reward_model_path = 'reward_model/model0.pth'\n",
    "\n",
    "learn_reward(reward_net, optimizer, training_obs, training_labels, num_iter, l1_reg, reward_model_path) #path is where to save the model\n",
    "#save reward network\n",
    "torch.save(reward_net.state_dict(), reward_model_path)"
   ]
  },
  {
   "cell_type": "markdown",
   "metadata": {},
   "source": [
    "1st see how it learns reward \"Network\""
   ]
  },
  {
   "cell_type": "code",
   "execution_count": 41,
   "metadata": {},
   "outputs": [
    {
     "name": "stdout",
     "output_type": "stream",
     "text": [
      "0 -45.61058294773102 -362.18852614808526\n",
      "1 -43.43515446782112 -217.61016424414632\n",
      "2 -47.8729145526886 -189.99518832828852\n",
      "3 -58.85412549972534 -159.36152768835598\n",
      "4 -45.562394857406616 -146.1140926064082\n",
      "5 -66.05725848674774 -137.5032035750756\n",
      "6 -59.74751591682434 -135.85084168721104\n",
      "7 -55.00501728057861 -110.27148638803381\n",
      "8 -107.6347291469574 -106.96702195811058\n",
      "9 -95.82809329032898 -94.48181129665147\n",
      "10 -71.68154215812683 -90.10019050638121\n",
      "11 -58.924809217453 -89.50723549407869\n",
      "12 -63.55244028568268 -89.31660912002741\n",
      "13 -73.50893867015839 -88.17919788862693\n",
      "14 -56.49663424491882 -57.02610638521248\n"
     ]
    }
   ],
   "source": [
    "with torch.no_grad():\n",
    "        pred_returns = [predict_traj_return(reward_net, traj[0]) for traj in sorted_demonstrations]\n",
    "for i, p in enumerate(pred_returns):\n",
    "    print(i,p,sorted_rewards[i])"
   ]
  },
  {
   "cell_type": "code",
   "execution_count": 42,
   "metadata": {},
   "outputs": [],
   "source": [
    "import matplotlib.pyplot as plt"
   ]
  },
  {
   "cell_type": "code",
   "execution_count": 43,
   "metadata": {},
   "outputs": [
    {
     "data": {
      "text/plain": [
       "<matplotlib.collections.PathCollection at 0x23b3f564190>"
      ]
     },
     "execution_count": 43,
     "metadata": {},
     "output_type": "execute_result"
    },
    {
     "data": {
      "image/png": "[encoded data removed]",
      "text/plain": [
       "<Figure size 640x480 with 1 Axes>"
      ]
     },
     "metadata": {},
     "output_type": "display_data"
    }
   ],
   "source": [
    "plt.scatter(pred_returns, sorted_rewards)"
   ]
  },
  {
   "cell_type": "code",
   "execution_count": null,
   "metadata": {},
   "outputs": [],
   "source": [
    "# demo_names = ['1668059133.6913733', '1668059364.6035125', '1668059396.1789556', '1668059459.6041403', '1668091394.3350058', '1668091478.0278926']"
   ]
  },
  {
   "cell_type": "code",
   "execution_count": null,
   "metadata": {},
   "outputs": [],
   "source": [
    "# demo_path = 'data/demonstrations/gym-'\n",
    "# demos = [pickle.load(open(demo_path+ f'{demo_name}' + '.pickle', 'rb'), encoding='latin1') for demo_name in demo_names] # load from files\n",
    "# demos[demo #] = control, state"
   ]
  },
  {
   "cell_type": "code",
   "execution_count": null,
   "metadata": {},
   "outputs": [],
   "source": [
    "# H = TerminalHuman(env, 'approx')"
   ]
  },
  {
   "cell_type": "code",
   "execution_count": null,
   "metadata": {},
   "outputs": [],
   "source": [
    "# out = H.input(demos)"
   ]
  }
 ],
 "metadata": {
  "kernelspec": {
   "display_name": "Python 3.10.4 ('cpsc672')",
   "language": "python",
   "name": "python3"
  },
  "language_info": {
   "codemirror_mode": {
    "name": "ipython",
    "version": 3
   },
   "file_extension": ".py",
   "mimetype": "text/x-python",
   "name": "python",
   "nbconvert_exporter": "python",
   "pygments_lexer": "ipython3",
   "version": "3.9.13"
  },
  "orig_nbformat": 4,
  "vscode": {
   "interpreter": {
    "hash": "d49e151782fed93a6f134ef8d54ea6efc441a9808d334581963f6e1390574c3f"
   }
  }
 },
 "nbformat": 4,
 "nbformat_minor": 2
}
